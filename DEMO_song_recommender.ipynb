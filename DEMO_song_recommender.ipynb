{
 "cells": [
  {
   "cell_type": "code",
   "execution_count": 1,
   "metadata": {},
   "outputs": [],
   "source": [
    "from functions_final import best_recommender"
   ]
  },
  {
   "cell_type": "code",
   "execution_count": 2,
   "metadata": {},
   "outputs": [
    {
     "name": "stdout",
     "output_type": "stream",
     "text": [
      "What song title do you have in mind?: macarena\n",
      "What's the artist of the song?: los del rio\n",
      "\n",
      "Here are some songs similar to Macarena by Los Del Rio:\n",
      "\n"
     ]
    },
    {
     "data": {
      "text/html": [
       "<style type=\"text/css\">\n",
       "</style>\n",
       "<table id=\"T_cd8de\">\n",
       "  <thead>\n",
       "    <tr>\n",
       "      <th class=\"blank level0\" >&nbsp;</th>\n",
       "      <th id=\"T_cd8de_level0_col0\" class=\"col_heading level0 col0\" >Song titles</th>\n",
       "      <th id=\"T_cd8de_level0_col1\" class=\"col_heading level0 col1\" >Artists</th>\n",
       "      <th id=\"T_cd8de_level0_col2\" class=\"col_heading level0 col2\" >Public URL</th>\n",
       "    </tr>\n",
       "  </thead>\n",
       "  <tbody>\n",
       "    <tr>\n",
       "      <th id=\"T_cd8de_level0_row0\" class=\"row_heading level0 row0\" >1286</th>\n",
       "      <td id=\"T_cd8de_row0_col0\" class=\"data row0 col0\" >Back to Life (However Do You Want Me)</td>\n",
       "      <td id=\"T_cd8de_row0_col1\" class=\"data row0 col1\" >Soul II Soul</td>\n",
       "      <td id=\"T_cd8de_row0_col2\" class=\"data row0 col2\" ><a href=\"https://open.spotify.com/track/7ELuWpsuVCRBnOR9ZAZKDp\" target=\"_blank\">https://open.spotify.com/track/7ELuWpsuVCRBnOR9ZAZKDp</a></td>\n",
       "    </tr>\n",
       "    <tr>\n",
       "      <th id=\"T_cd8de_level0_row1\" class=\"row_heading level0 row1\" >1923</th>\n",
       "      <td id=\"T_cd8de_row1_col0\" class=\"data row1 col0\" >Piece of Me</td>\n",
       "      <td id=\"T_cd8de_row1_col1\" class=\"data row1 col1\" >Britney Spears</td>\n",
       "      <td id=\"T_cd8de_row1_col2\" class=\"data row1 col2\" ><a href=\"https://open.spotify.com/track/2EvwLVrnYbCZEG6Kx5DCRy\" target=\"_blank\">https://open.spotify.com/track/2EvwLVrnYbCZEG6Kx5DCRy</a></td>\n",
       "    </tr>\n",
       "    <tr>\n",
       "      <th id=\"T_cd8de_level0_row2\" class=\"row_heading level0 row2\" >1425</th>\n",
       "      <td id=\"T_cd8de_row2_col0\" class=\"data row2 col0\" >Rebirth of Slick (Cool Like Dat)</td>\n",
       "      <td id=\"T_cd8de_row2_col1\" class=\"data row2 col1\" >Digable Planets</td>\n",
       "      <td id=\"T_cd8de_row2_col2\" class=\"data row2 col2\" ><a href=\"https://open.spotify.com/track/26q6YTrXt9l8qshIveiTX9\" target=\"_blank\">https://open.spotify.com/track/26q6YTrXt9l8qshIveiTX9</a></td>\n",
       "    </tr>\n",
       "    <tr>\n",
       "      <th id=\"T_cd8de_level0_row3\" class=\"row_heading level0 row3\" >565</th>\n",
       "      <td id=\"T_cd8de_row3_col0\" class=\"data row3 col0\" >What Does It Take (To Win Your Love)</td>\n",
       "      <td id=\"T_cd8de_row3_col1\" class=\"data row3 col1\" >Jr. Walker & The All Stars</td>\n",
       "      <td id=\"T_cd8de_row3_col2\" class=\"data row3 col2\" ><a href=\"https://open.spotify.com/track/0RiZIzLmDd7a8pUzcOJOeY\" target=\"_blank\">https://open.spotify.com/track/0RiZIzLmDd7a8pUzcOJOeY</a></td>\n",
       "    </tr>\n",
       "    <tr>\n",
       "      <th id=\"T_cd8de_level0_row4\" class=\"row_heading level0 row4\" >1486</th>\n",
       "      <td id=\"T_cd8de_row4_col0\" class=\"data row4 col0\" >No Diggity</td>\n",
       "      <td id=\"T_cd8de_row4_col1\" class=\"data row4 col1\" >Blackstreet</td>\n",
       "      <td id=\"T_cd8de_row4_col2\" class=\"data row4 col2\" ><a href=\"https://open.spotify.com/track/6MdqqkQ8sSC0WB4i8PyRuQ\" target=\"_blank\">https://open.spotify.com/track/6MdqqkQ8sSC0WB4i8PyRuQ</a></td>\n",
       "    </tr>\n",
       "  </tbody>\n",
       "</table>\n"
      ],
      "text/plain": [
       "<pandas.io.formats.style.Styler at 0x1d71b0c79d0>"
      ]
     },
     "metadata": {},
     "output_type": "display_data"
    },
    {
     "name": "stdout",
     "output_type": "stream",
     "text": [
      "\n",
      "Do you want another song recommendation? (yes/no) no\n",
      "   \n",
      "**************************************\n",
      "Thanks for using our song recommender!\n",
      "**************************************\n"
     ]
    }
   ],
   "source": [
    "best_recommender()"
   ]
  },
  {
   "cell_type": "code",
   "execution_count": null,
   "metadata": {},
   "outputs": [],
   "source": []
  }
 ],
 "metadata": {
  "kernelspec": {
   "display_name": "Python 3 (ipykernel)",
   "language": "python",
   "name": "python3"
  },
  "language_info": {
   "codemirror_mode": {
    "name": "ipython",
    "version": 3
   },
   "file_extension": ".py",
   "mimetype": "text/x-python",
   "name": "python",
   "nbconvert_exporter": "python",
   "pygments_lexer": "ipython3",
   "version": "3.9.13"
  }
 },
 "nbformat": 4,
 "nbformat_minor": 2
}
